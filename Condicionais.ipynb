{
  "nbformat": 4,
  "nbformat_minor": 0,
  "metadata": {
    "colab": {
      "provenance": [],
      "collapsed_sections": [],
      "authorship_tag": "ABX9TyNgwm6wFUo95yGOowFsG6yz",
      "include_colab_link": true
    },
    "kernelspec": {
      "name": "python3",
      "display_name": "Python 3"
    },
    "language_info": {
      "name": "python"
    }
  },
  "cells": [
    {
      "cell_type": "markdown",
      "metadata": {
        "id": "view-in-github",
        "colab_type": "text"
      },
      "source": [
        "<a href=\"https://colab.research.google.com/github/juliopbcs/git-dnc/blob/main/Condicionais.ipynb\" target=\"_parent\"><img src=\"https://colab.research.google.com/assets/colab-badge.svg\" alt=\"Open In Colab\"/></a>"
      ]
    },
    {
      "cell_type": "code",
      "execution_count": null,
      "metadata": {
        "colab": {
          "base_uri": "https://localhost:8080/"
        },
        "id": "N2ikTfl8LrnB",
        "outputId": "2bfca3dc-22ea-4d35-fc57-cf48962b0e59"
      },
      "outputs": [
        {
          "output_type": "stream",
          "name": "stdout",
          "text": [
            "False\n",
            "True\n",
            "True\n",
            "True\n",
            "False\n",
            "False\n"
          ]
        }
      ],
      "source": [
        "print(7==2) #Igual\n",
        "print(7!=2) #Diferente\n",
        "print(7>2) #Maior\n",
        "print(7>=2) #Maior ou igual\n",
        "print(7<2) #Menor\n",
        "print(7<=2) #Menor ou Igual"
      ]
    },
    {
      "cell_type": "code",
      "source": [
        "Vontade = input('Você quer comer pizza, lanche ou outra coisa? ')\n",
        "\n",
        "if Vontade == 'Lanche':\n",
        "  print('Ir ao Méqui')\n",
        "  print('Comer um Lanche')\n",
        "else:\n",
        "  if Vontade == 'Pizza':\n",
        "    print('Ir ao Hut')\n",
        "    print('Comer Pizza')\n",
        "  else:\n",
        "    print('Pesquisar um lugar')\n",
        "    print('Ir ao lugar e comer')\n",
        "print('Fome Satisfeita')"
      ],
      "metadata": {
        "colab": {
          "base_uri": "https://localhost:8080/"
        },
        "id": "m-TGhnKSNNGs",
        "outputId": "bc2977a0-23a4-44c9-a2bf-49a89f982f1d"
      },
      "execution_count": null,
      "outputs": [
        {
          "output_type": "stream",
          "name": "stdout",
          "text": [
            "Você quer comer pizza, lanche ou outra coisa? outra coisa\n",
            "Pesquisar um lugar\n",
            "Ir ao lugar e comer\n",
            "Fome Satisfeita\n"
          ]
        }
      ]
    },
    {
      "cell_type": "code",
      "source": [
        "Vontade = input('Você quer comer pizza, lanche ou outra coisa? ')\n",
        "\n",
        "if Vontade == 'Lanche':\n",
        "  print('Ir ao Méqui')\n",
        "  print('Comer um Lanche')\n",
        "elif Vontade == 'Pizza':\n",
        "  print('Ir ao Hut')\n",
        "  print('Comer Pizza')\n",
        "elif Vontade == 'Queijo':\n",
        "  print('Ir ao supermercado')\n",
        "else:\n",
        "  print('Pesquisar um lugar')\n",
        "  print('Ir ao lugar e comer')\n",
        "print('Fome Satisfeita')"
      ],
      "metadata": {
        "colab": {
          "base_uri": "https://localhost:8080/"
        },
        "id": "gCbkpT5hPr2N",
        "outputId": "db8da8d4-3a67-4869-bb90-6ad6b05d9c87"
      },
      "execution_count": null,
      "outputs": [
        {
          "output_type": "stream",
          "name": "stdout",
          "text": [
            "Você quer comer pizza, lanche ou outra coisa? Queijo\n",
            "Ir ao supermercado\n",
            "Fome Satisfeita\n"
          ]
        }
      ]
    },
    {
      "cell_type": "code",
      "source": [
        "numero = input('Digite um número: ')\n",
        "\n",
        "if numero == "
      ],
      "metadata": {
        "id": "S8lQKdUwQgIB"
      },
      "execution_count": null,
      "outputs": []
    },
    {
      "cell_type": "markdown",
      "source": [
        "# **REPETIÇÔES** - **LOOP**"
      ],
      "metadata": {
        "id": "QUWrvxjLV0yi"
      }
    },
    {
      "cell_type": "code",
      "source": [
        "for ii in range(20,1,-3):\n",
        "  print('ii = {} Ler página'.format(ii))\n",
        "print('Fim')"
      ],
      "metadata": {
        "colab": {
          "base_uri": "https://localhost:8080/"
        },
        "id": "ilq8491gVzpR",
        "outputId": "d5eca604-68c2-4bfc-de36-fe6ff11496a6"
      },
      "execution_count": null,
      "outputs": [
        {
          "output_type": "stream",
          "name": "stdout",
          "text": [
            "ii = 20 Ler página\n",
            "ii = 17 Ler página\n",
            "ii = 14 Ler página\n",
            "ii = 11 Ler página\n",
            "ii = 8 Ler página\n",
            "ii = 5 Ler página\n",
            "ii = 2 Ler página\n",
            "Fim\n"
          ]
        }
      ]
    },
    {
      "cell_type": "code",
      "source": [
        "soma = 0\n",
        "\n",
        "for i in range(1,9+1,2):\n",
        "  soma = soma + i\n",
        "  print('i = {} e soma = {}'.format(i,soma))\n",
        "print('soma = {}'.format(soma))"
      ],
      "metadata": {
        "colab": {
          "base_uri": "https://localhost:8080/"
        },
        "id": "-4sCxxlUYI0P",
        "outputId": "1741a023-3b1b-4165-d273-5ee41259bac9"
      },
      "execution_count": null,
      "outputs": [
        {
          "output_type": "stream",
          "name": "stdout",
          "text": [
            "i = 1 e soma = 1\n",
            "i = 3 e soma = 4\n",
            "i = 5 e soma = 9\n",
            "i = 7 e soma = 16\n",
            "i = 9 e soma = 25\n",
            "soma = 25\n"
          ]
        }
      ]
    },
    {
      "cell_type": "code",
      "source": [
        "soma = 0\n",
        "for i in range(1,3+1):\n",
        "  n = int(input('digite um número: '))\n",
        "  soma = soma + n\n",
        "  print('n = {} e soma {}'.format(n, soma))\n",
        "print('soma = {}'.format(soma))"
      ],
      "metadata": {
        "colab": {
          "base_uri": "https://localhost:8080/"
        },
        "id": "3pTxJlROYt3p",
        "outputId": "fd1ec85d-b82c-4d1b-d019-149588d90ef8"
      },
      "execution_count": null,
      "outputs": [
        {
          "output_type": "stream",
          "name": "stdout",
          "text": [
            "digite um número: 1\n",
            "n = 1 e soma 1\n",
            "digite um número: 5\n",
            "n = 5 e soma 6\n",
            "digite um número: 4\n",
            "n = 4 e soma 10\n",
            "soma = 10\n"
          ]
        }
      ]
    },
    {
      "cell_type": "code",
      "source": [
        "soma = 1\n",
        "for i in range(1,3+1):\n",
        "  soma *= 5\n",
        "  print('soma {}'.format( soma))\n",
        "print('soma = {}'.format(soma))"
      ],
      "metadata": {
        "colab": {
          "base_uri": "https://localhost:8080/"
        },
        "id": "XWi8hVUpZpwW",
        "outputId": "f3d4a108-d368-4d65-a757-e9c0998dd9d9"
      },
      "execution_count": null,
      "outputs": [
        {
          "output_type": "stream",
          "name": "stdout",
          "text": [
            "soma 5\n",
            "soma 25\n",
            "soma 125\n",
            "soma = 125\n"
          ]
        }
      ]
    },
    {
      "cell_type": "code",
      "source": [
        "fim = 'n'\n",
        "while fim == 'n':\n",
        "  print('Ler página')\n",
        "  fim = input('Terminou?')\n",
        "print('Fim')"
      ],
      "metadata": {
        "colab": {
          "base_uri": "https://localhost:8080/"
        },
        "id": "PGuO0FUKaRGn",
        "outputId": "fb1cb23f-606b-45c0-acea-8a76c019fd18"
      },
      "execution_count": null,
      "outputs": [
        {
          "output_type": "stream",
          "name": "stdout",
          "text": [
            "Ler página\n",
            "Terminou?n\n",
            "Ler página\n",
            "Terminou?n\n",
            "Ler página\n",
            "Terminou?n\n",
            "Ler página\n",
            "Terminou?n\n",
            "Ler página\n",
            "Terminou?1\n",
            "Fim\n"
          ]
        }
      ]
    },
    {
      "cell_type": "code",
      "source": [
        "soma = 0\n",
        "\n",
        "while soma < 20:\n",
        "  n = float(input('Digite um número: '))\n",
        "  soma += n\n",
        "print('a soma final foi de {:.2f}'.format(soma))"
      ],
      "metadata": {
        "colab": {
          "base_uri": "https://localhost:8080/"
        },
        "id": "sFZWuoVwcAIl",
        "outputId": "76443b71-8143-4195-c7e2-233c23a41e2d"
      },
      "execution_count": null,
      "outputs": [
        {
          "output_type": "stream",
          "name": "stdout",
          "text": [
            "Digite um número: 1\n",
            "Digite um número: 2\n",
            "Digite um número: 5\n",
            "Digite um número: 10\n",
            "Digite um número: 5\n",
            "a soma final foi de 23.00\n"
          ]
        }
      ]
    },
    {
      "cell_type": "code",
      "source": [
        "soma = 0\n",
        "while True:\n",
        "  n = float(input('Digite um número: '))\n",
        "  soma += n\n",
        "\n",
        "  continua = input('quer continuar (s/n): ')\n",
        "  if continua == 'n':\n",
        "    break\n",
        "print('a soma final foi de {:.2f}'.format(soma))"
      ],
      "metadata": {
        "colab": {
          "base_uri": "https://localhost:8080/"
        },
        "id": "W2ArWhQGdDD8",
        "outputId": "2cf0a2e3-26ff-41f7-ae59-9d867e5663ac"
      },
      "execution_count": null,
      "outputs": [
        {
          "output_type": "stream",
          "name": "stdout",
          "text": [
            "Digite um número: 5\n",
            "quer continuar (s/n): s\n",
            "Digite um número: 10\n",
            "quer continuar (s/n): s\n",
            "Digite um número: 50\n",
            "quer continuar (s/n): n\n",
            "a soma final foi de 65.00\n"
          ]
        }
      ]
    },
    {
      "cell_type": "markdown",
      "source": [],
      "metadata": {
        "id": "GvWUcQ9Tc_y6"
      }
    },
    {
      "cell_type": "code",
      "source": [
        "tupla = ('Lanche', 'Batata', 'Refri')\n",
        "\n",
        "print(tupla)\n",
        "\n",
        "print(tupla[1])\n",
        "print(tupla[0])\n",
        "print(tupla[2])\n",
        "\n",
        "tupla1 = (2, 6, 4, 5, 7)\n",
        "\n",
        "print(tupla1[0:3])\n",
        "print(tupla1[3:6])\n",
        "print(tupla1[2:]) #Nesse caso tras a informação a partir do 2 até o final\n",
        "print(tupla1[:4]) #Nesse caso tras a informação do começo até o numero informado (exceto o próprio número)\n",
        "print(tupla1[-1]) #Busca a ultima informação da lista\n",
        "\n",
        "#Não podemos modificar a tupla. \n",
        "#As variáveis compostas aceitam qualquer tipo de dados, e podemos ter dados de tipos variáveis\n",
        "tupla2 = ('Lanche', 11, False)\n",
        "print(type(tupla2))\n",
        "print(type(tupla2[0]))\n",
        "print(type(tupla2[1]))\n",
        "print(type(tupla2[2]))"
      ],
      "metadata": {
        "colab": {
          "base_uri": "https://localhost:8080/"
        },
        "id": "1Udk3dlMZVfA",
        "outputId": "c02a2312-d7db-49af-a25d-a7b8230f1cb1"
      },
      "execution_count": null,
      "outputs": [
        {
          "output_type": "stream",
          "name": "stdout",
          "text": [
            "('Lanche', 'Batata', 'Refri')\n",
            "Batata\n",
            "Lanche\n",
            "Refri\n",
            "(2, 6, 4)\n",
            "(5, 7)\n",
            "(4, 5, 7)\n",
            "(2, 6, 4, 5)\n",
            "7\n",
            "<class 'tuple'>\n",
            "<class 'str'>\n",
            "<class 'int'>\n",
            "<class 'bool'>\n"
          ]
        }
      ]
    },
    {
      "cell_type": "code",
      "source": [
        "t1 = (0, 6, 4, 2, 8)\n",
        "t2 = (1, 3, 3, 5, 3, 5, 7)\n",
        "\n",
        "print(len(t1)) #informa a quantidade de itens na tupla\n",
        "print(len(t2))\n",
        "sorted(t1) #ordena a tupla\n",
        "\n",
        "t2.count(3) #contagem de termos - Ele fez a contagem de quantos 3 tem dentro da tupla\n",
        "t2.index(7) #Posição dos termos. Ele determina qual a posição dessa informação na tupla\n",
        "t2.index(3) #Quando o termo se repete na tupla, o index trará o primeiro termo\n",
        "t2.index(3,3) #Nesse caso elee tras a posição do 3 a partir da 3ª posição da tupla\n",
        "t2 + t1 #Concatenar tuplas "
      ],
      "metadata": {
        "colab": {
          "base_uri": "https://localhost:8080/"
        },
        "id": "6mmmCPFkdmTh",
        "outputId": "5bcd9500-c61f-4888-fda7-cd2d938dbc91"
      },
      "execution_count": null,
      "outputs": [
        {
          "output_type": "stream",
          "name": "stdout",
          "text": [
            "5\n",
            "7\n"
          ]
        },
        {
          "output_type": "execute_result",
          "data": {
            "text/plain": [
              "(1, 3, 3, 5, 3, 5, 7, 0, 6, 4, 2, 8)"
            ]
          },
          "metadata": {},
          "execution_count": 22
        }
      ]
    },
    {
      "cell_type": "code",
      "source": [
        "t1 = (2, 6, 4, 5, 7)\n",
        "\n",
        "for i in t1:\n",
        "  print('i = {} - Valor da Tupla'.format(i))\n",
        "print('FIM')"
      ],
      "metadata": {
        "colab": {
          "base_uri": "https://localhost:8080/"
        },
        "id": "Y9gRUygMfDNh",
        "outputId": "2cf31b41-6b7b-44e1-959e-6c61e82da0aa"
      },
      "execution_count": null,
      "outputs": [
        {
          "output_type": "stream",
          "name": "stdout",
          "text": [
            "i = 2 - Valor da Tupla\n",
            "i = 6 - Valor da Tupla\n",
            "i = 4 - Valor da Tupla\n",
            "i = 5 - Valor da Tupla\n",
            "i = 7 - Valor da Tupla\n",
            "FIM\n"
          ]
        }
      ]
    },
    {
      "cell_type": "code",
      "source": [
        "t2 = ('Lanche', 'Batata', 'Refri')\n",
        "\n",
        "for i in t2:\n",
        "  print('Você quer pedir um(a) {}?'.format(i))\n",
        "print('Fim')"
      ],
      "metadata": {
        "colab": {
          "base_uri": "https://localhost:8080/"
        },
        "id": "bduFlc_tfj70",
        "outputId": "3f0e8fbf-c1dc-42fb-ce76-9fb058137366"
      },
      "execution_count": null,
      "outputs": [
        {
          "output_type": "stream",
          "name": "stdout",
          "text": [
            "Você quer pedir um(a) Lanche?\n",
            "Você quer pedir um(a) Batata?\n",
            "Você quer pedir um(a) Refri?\n",
            "Fim\n"
          ]
        }
      ]
    },
    {
      "cell_type": "code",
      "source": [
        "t1 = (2, 6, 4, 5, 7)\n",
        "soma = 0\n",
        "\n",
        "for i in t1:\n",
        "  soma += i #Soma todos os valores da tupla\n",
        "print('soma = {}'.format(soma))\n"
      ],
      "metadata": {
        "colab": {
          "base_uri": "https://localhost:8080/"
        },
        "id": "Jtfw2nf5ge5W",
        "outputId": "11f58d2b-fd65-4ada-c0ab-6beaab32d7db"
      },
      "execution_count": null,
      "outputs": [
        {
          "output_type": "stream",
          "name": "stdout",
          "text": [
            "soma = 24\n"
          ]
        }
      ]
    },
    {
      "cell_type": "code",
      "source": [
        "t2 = ('Lanche', 'Batata', 'Refri')\n",
        "\n",
        "for ind, valor in enumerate(t2):\n",
        "  print('Item {}: é um(a): {}'.format(ind+1, valor))\n",
        "print('Fim')"
      ],
      "metadata": {
        "colab": {
          "base_uri": "https://localhost:8080/"
        },
        "id": "4hbKj4FDhDNm",
        "outputId": "597c92b0-b212-4e62-b87c-739f0306b613"
      },
      "execution_count": null,
      "outputs": [
        {
          "output_type": "stream",
          "name": "stdout",
          "text": [
            "Item 1: é um(a): Lanche\n",
            "Item 2: é um(a): Batata\n",
            "Item 3: é um(a): Refri\n",
            "Fim\n"
          ]
        }
      ]
    },
    {
      "cell_type": "code",
      "source": [],
      "metadata": {
        "id": "-Lmdx5xY3zuS"
      },
      "execution_count": null,
      "outputs": []
    },
    {
      "cell_type": "code",
      "source": [
        "t1 = ('Doce', 2.3, 'Bala', 0.15, 'Pizza', 28.9, 'Arroz', 4.5, 'Paçoca', 0.5, 'Pamonha', 5.4)\n",
        "\n",
        "print('-'*20)\n",
        "print('-'*5, 'Cardapio','-'*5)\n",
        "print('-'*20)\n",
        "\n",
        "for i in range(0, len(t1), 2):\n",
        "  info = f'{t1[i]}' + '-' *20\n",
        "  print('{0:.10} R$'.format(info), (f'{t1[i+1]}')"
      ],
      "metadata": {
        "colab": {
          "base_uri": "https://localhost:8080/"
        },
        "id": "ah2wT-BxCFFo",
        "outputId": "c03c3da1-ca14-4b2a-c410-6e2bcf56b077"
      },
      "execution_count": null,
      "outputs": [
        {
          "output_type": "stream",
          "name": "stdout",
          "text": [
            "--------------------\n",
            "----- Cardapio -----\n",
            "--------------------\n",
            "Doce------ R$ 2.3\n",
            "Bala------ R$ 0.15\n",
            "Pizza----- R$ 28.9\n",
            "Arroz----- R$ 4.5\n",
            "Paçoca---- R$ 0.5\n",
            "Pamonha--- R$ 5.4\n"
          ]
        }
      ]
    },
    {
      "cell_type": "code",
      "source": [
        "help(print)"
      ],
      "metadata": {
        "colab": {
          "base_uri": "https://localhost:8080/"
        },
        "id": "vu9ibLr031af",
        "outputId": "c413bc83-bf74-46d6-a953-04c089428558"
      },
      "execution_count": null,
      "outputs": [
        {
          "output_type": "stream",
          "name": "stdout",
          "text": [
            "Help on built-in function print in module builtins:\n",
            "\n",
            "print(...)\n",
            "    print(value, ..., sep=' ', end='\\n', file=sys.stdout, flush=False)\n",
            "    \n",
            "    Prints the values to a stream, or to sys.stdout by default.\n",
            "    Optional keyword arguments:\n",
            "    file:  a file-like object (stream); defaults to the current sys.stdout.\n",
            "    sep:   string inserted between values, default a space.\n",
            "    end:   string appended after the last value, default a newline.\n",
            "    flush: whether to forcibly flush the stream.\n",
            "\n"
          ]
        }
      ]
    },
    {
      "cell_type": "code",
      "source": [
        "usuarios_feedback = [{'nome':'Peter','nota':9,'genero':'M','comentario':'bom demais e agil'}, \n",
        "                     {'nome':'Joao','nota':10,'genero':'M','comentario':'agil e eficiente'}, \n",
        "                     {'nome':'user_not_found','nota':0,'genero':'M','comentario':'Horrível'}, \n",
        "                     {'nome':'Marta','nota':10,'genero':'F','comentario':'muito agil bom demais'}, \n",
        "                     {'nome':'Beatriz','nota':10,'genero':'F','comentario':'rápido e eficaz'}, \n",
        "                     {'nome':'user_not_found','nota':2,'genero':'M','comentario':'ruim'}, \n",
        "                     {'nome':'Jéssica','nota':10,'genero':'F','comentario':'agil'}, \n",
        "                     {'nome':'José','nota':7,'genero':'M','comentario':'ok'}, \n",
        "                     {'nome':'Elias','nota':5,'genero':'M','comentario':'precisa melhorar'}, \n",
        "                     {'nome':'Miriã','nota':9,'genero':'F','comentario':'foi muito agil e rápido'}, \n",
        "                     {'nome':'Maria','nota':10,'genero':'F','comentario':'muito bom e agil'}]\n",
        "\n",
        "def conta_frequencia (x):\n",
        "  todas_palavras = []\n",
        "  for user in x:\n",
        "    todas_palavras.extend(user['comentario'].split())\n",
        "    uniqWords = sorted(set(todas_palavras))\n",
        "  for word in uniqWords:\n",
        "    if word != 'e': #ele não conta as letras e isoladas\n",
        "      print(todas_palavras.count(word), word)\n",
        "conta_frequencia(usuarios_feedback)\n",
        "\n",
        "def notas(x):\n",
        "  m = []\n",
        "  f = []\n",
        "  for a in x:\n",
        "    if a['genero']=='M':\n",
        "      m.append(a['nota'])\n",
        "    elif a['genero']=='F':\n",
        "      f.append(a['nota'])\n",
        "  print('média masc =', sum(m)/len(m), 'média fem=',sum(f)/len(f))\n",
        "  return m, f\n",
        "\n",
        "masc, fem = notas(usuarios_feedback)\n",
        "print(masc,fem)\n",
        "\n",
        "user_null = []\n",
        "for a in usuarios_feedback:\n",
        "  if a['nome']=='user_not_found':\n",
        "    print(a)\n",
        "    user_null.append(a)\n",
        "print(f'Há {len(user_null)} usuários não encontrados')"
      ],
      "metadata": {
        "colab": {
          "base_uri": "https://localhost:8080/"
        },
        "id": "WXsEprPv4AWw",
        "outputId": "30e69e06-1722-4be1-88ff-fb5af79043e6"
      },
      "execution_count": null,
      "outputs": [
        {
          "output_type": "stream",
          "name": "stdout",
          "text": [
            "1 Horrível\n",
            "6 agil\n",
            "3 bom\n",
            "2 demais\n",
            "1 eficaz\n",
            "1 eficiente\n",
            "1 foi\n",
            "1 melhorar\n",
            "3 muito\n",
            "1 ok\n",
            "1 precisa\n",
            "1 ruim\n",
            "2 rápido\n",
            "média masc = 5.5 média fem= 9.8\n",
            "[9, 10, 0, 2, 7, 5] [10, 10, 10, 9, 10]\n",
            "{'nome': 'user_not_found', 'nota': 0, 'genero': 'M', 'comentario': 'Horrível'}\n",
            "{'nome': 'user_not_found', 'nota': 2, 'genero': 'M', 'comentario': 'ruim'}\n",
            "Há 2 usuários não encontrados\n"
          ]
        }
      ]
    }
  ]
}